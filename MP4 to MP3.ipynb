{
 "cells": [
  {
   "cell_type": "markdown",
   "id": "468eef9f",
   "metadata": {},
   "source": [
    "# MP4 to MP3 converter\n"
   ]
  },
  {
   "cell_type": "markdown",
   "id": "0b2b7841",
   "metadata": {},
   "source": [
    "* Step 1 : Install moviepy library \n",
    "* Step 2 : Import Necessary Module (*) from moviepy.editor\n",
    "* Step 3 : Loadning Video with assigning to Variable using \"VideoFileClip\" Command\n",
    "* Step 4 : Extracting Audio File from Video using .audio.write_audiofile(\"NameOfFile.mp3\")"
   ]
  },
  {
   "cell_type": "code",
   "execution_count": 1,
   "id": "e6301c51",
   "metadata": {},
   "outputs": [
    {
     "name": "stdout",
     "output_type": "stream",
     "text": [
      "Requirement already satisfied: moviepy in c:\\users\\admin\\anaconda3\\lib\\site-packages (1.0.3)Note: you may need to restart the kernel to use updated packages.\n",
      "\n",
      "Requirement already satisfied: decorator<5.0,>=4.0.2 in c:\\users\\admin\\anaconda3\\lib\\site-packages (from moviepy) (4.4.2)\n",
      "Requirement already satisfied: tqdm<5.0,>=4.11.2 in c:\\users\\admin\\anaconda3\\lib\\site-packages (from moviepy) (4.65.0)\n",
      "Requirement already satisfied: requests<3.0,>=2.8.1 in c:\\users\\admin\\anaconda3\\lib\\site-packages (from moviepy) (2.31.0)\n",
      "Requirement already satisfied: proglog<=1.0.0 in c:\\users\\admin\\anaconda3\\lib\\site-packages (from moviepy) (0.1.10)\n",
      "Requirement already satisfied: numpy>=1.17.3 in c:\\users\\admin\\anaconda3\\lib\\site-packages (from moviepy) (1.26.4)\n",
      "Collecting imageio<3.0,>=2.5 (from moviepy)\n",
      "  Downloading imageio-2.34.2-py3-none-any.whl.metadata (4.9 kB)\n",
      "Requirement already satisfied: imageio-ffmpeg>=0.2.0 in c:\\users\\admin\\anaconda3\\lib\\site-packages (from moviepy) (0.4.8)\n",
      "Requirement already satisfied: pillow>=8.3.2 in c:\\users\\admin\\anaconda3\\lib\\site-packages (from imageio<3.0,>=2.5->moviepy) (10.2.0)\n",
      "Requirement already satisfied: charset-normalizer<4,>=2 in c:\\users\\admin\\anaconda3\\lib\\site-packages (from requests<3.0,>=2.8.1->moviepy) (2.0.4)\n",
      "Requirement already satisfied: idna<4,>=2.5 in c:\\users\\admin\\anaconda3\\lib\\site-packages (from requests<3.0,>=2.8.1->moviepy) (3.4)\n",
      "Requirement already satisfied: urllib3<3,>=1.21.1 in c:\\users\\admin\\anaconda3\\lib\\site-packages (from requests<3.0,>=2.8.1->moviepy) (2.1.0)\n",
      "Requirement already satisfied: certifi>=2017.4.17 in c:\\users\\admin\\anaconda3\\lib\\site-packages (from requests<3.0,>=2.8.1->moviepy) (2024.2.2)\n",
      "Requirement already satisfied: colorama in c:\\users\\admin\\anaconda3\\lib\\site-packages (from tqdm<5.0,>=4.11.2->moviepy) (0.4.6)\n",
      "Downloading imageio-2.34.2-py3-none-any.whl (313 kB)\n",
      "   ---------------------------------------- 0.0/313.5 kB ? eta -:--:--\n",
      "   - -------------------------------------- 10.2/313.5 kB ? eta -:--:--\n",
      "   --- ----------------------------------- 30.7/313.5 kB 262.6 kB/s eta 0:00:02\n",
      "   ------- ------------------------------- 61.4/313.5 kB 363.1 kB/s eta 0:00:01\n",
      "   -------- ------------------------------ 71.7/313.5 kB 393.8 kB/s eta 0:00:01\n",
      "   -------- ------------------------------ 71.7/313.5 kB 393.8 kB/s eta 0:00:01\n",
      "   -------- ------------------------------ 71.7/313.5 kB 393.8 kB/s eta 0:00:01\n",
      "   -------- ------------------------------ 71.7/313.5 kB 393.8 kB/s eta 0:00:01\n",
      "   -------- ------------------------------ 71.7/313.5 kB 393.8 kB/s eta 0:00:01\n",
      "   -------- ------------------------------ 71.7/313.5 kB 393.8 kB/s eta 0:00:01\n",
      "   ----------------- -------------------- 143.4/313.5 kB 283.8 kB/s eta 0:00:01\n",
      "   ----------------- -------------------- 143.4/313.5 kB 283.8 kB/s eta 0:00:01\n",
      "   ------------------ ------------------- 153.6/313.5 kB 248.0 kB/s eta 0:00:01\n",
      "   --------------------- ---------------- 174.1/313.5 kB 269.0 kB/s eta 0:00:01\n",
      "   --------------------- ---------------- 174.1/313.5 kB 269.0 kB/s eta 0:00:01\n",
      "   ------------------------ ------------- 204.8/313.5 kB 254.0 kB/s eta 0:00:01\n",
      "   ------------------------------- ------ 256.0/313.5 kB 308.4 kB/s eta 0:00:01\n",
      "   ---------------------------------- --- 286.7/313.5 kB 333.9 kB/s eta 0:00:01\n",
      "   -------------------------------------  307.2/313.5 kB 333.3 kB/s eta 0:00:01\n",
      "   -------------------------------------- 313.5/313.5 kB 323.3 kB/s eta 0:00:00\n",
      "Installing collected packages: imageio\n",
      "Successfully installed imageio-2.34.2\n"
     ]
    },
    {
     "name": "stderr",
     "output_type": "stream",
     "text": [
      "\n",
      "[notice] A new release of pip is available: 24.0 -> 24.1.1\n",
      "[notice] To update, run: python.exe -m pip install --upgrade pip\n"
     ]
    }
   ],
   "source": [
    "pip install moviepy "
   ]
  },
  {
   "cell_type": "code",
   "execution_count": 2,
   "id": "f4d0f5fc",
   "metadata": {},
   "outputs": [],
   "source": [
    "from moviepy.editor import *"
   ]
  },
  {
   "cell_type": "code",
   "execution_count": 4,
   "id": "040c368a",
   "metadata": {},
   "outputs": [],
   "source": [
    "video = VideoFileClip(r'C:\\Users\\admin\\Music\\dhaga.mp4')"
   ]
  },
  {
   "cell_type": "code",
   "execution_count": 5,
   "id": "7b619f6a",
   "metadata": {},
   "outputs": [
    {
     "name": "stdout",
     "output_type": "stream",
     "text": [
      "MoviePy - Writing audio in Dhaga.mp3\n"
     ]
    },
    {
     "name": "stderr",
     "output_type": "stream",
     "text": [
      "                                                                                                                       "
     ]
    },
    {
     "name": "stdout",
     "output_type": "stream",
     "text": [
      "MoviePy - Done.\n"
     ]
    },
    {
     "name": "stderr",
     "output_type": "stream",
     "text": [
      "\r"
     ]
    }
   ],
   "source": [
    "video.audio.write_audiofile(\"Dhaga.mp3\")"
   ]
  },
  {
   "cell_type": "markdown",
   "id": "bba694ce-43ed-47d2-bd3d-5eb6b515d1ab",
   "metadata": {},
   "source": [
    "* <font color =\"blue\"> You can find the mp3 file in folder where you are running python file "
   ]
  }
 ],
 "metadata": {
  "kernelspec": {
   "display_name": "Python 3 (ipykernel)",
   "language": "python",
   "name": "python3"
  },
  "language_info": {
   "codemirror_mode": {
    "name": "ipython",
    "version": 3
   },
   "file_extension": ".py",
   "mimetype": "text/x-python",
   "name": "python",
   "nbconvert_exporter": "python",
   "pygments_lexer": "ipython3",
   "version": "3.10.14"
  }
 },
 "nbformat": 4,
 "nbformat_minor": 5
}
